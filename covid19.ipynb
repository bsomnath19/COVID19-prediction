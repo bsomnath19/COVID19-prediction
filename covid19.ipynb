{
 "cells": [
  {
   "cell_type": "code",
   "execution_count": 2,
   "metadata": {
    "_cell_guid": "79c7e3d0-c299-4dcb-8224-4455121ee9b0",
    "_uuid": "d629ff2d2480ee46fbb7e2d37f6b5fab8052498a",
    "execution": {
     "iopub.execute_input": "2021-09-01T17:31:21.196745Z",
     "iopub.status.busy": "2021-09-01T17:31:21.196424Z",
     "iopub.status.idle": "2021-09-01T17:31:21.204818Z",
     "shell.execute_reply": "2021-09-01T17:31:21.203947Z",
     "shell.execute_reply.started": "2021-09-01T17:31:21.196715Z"
    }
   },
   "outputs": [
    {
     "ename": "ModuleNotFoundError",
     "evalue": "No module named 'tensorflow'",
     "output_type": "error",
     "traceback": [
      "\u001b[1;31m---------------------------------------------------------------------------\u001b[0m",
      "\u001b[1;31mModuleNotFoundError\u001b[0m                       Traceback (most recent call last)",
      "\u001b[1;32m<ipython-input-2-2aec19cfeb38>\u001b[0m in \u001b[0;36m<module>\u001b[1;34m\u001b[0m\n\u001b[0;32m      1\u001b[0m \u001b[1;31m# Part 1 - Building the CNN\u001b[0m\u001b[1;33m\u001b[0m\u001b[1;33m\u001b[0m\u001b[1;33m\u001b[0m\u001b[0m\n\u001b[1;32m----> 2\u001b[1;33m \u001b[1;32mfrom\u001b[0m \u001b[0mkeras\u001b[0m\u001b[1;33m.\u001b[0m\u001b[0mlayers\u001b[0m \u001b[1;32mimport\u001b[0m \u001b[0mAdd\u001b[0m\u001b[1;33m\u001b[0m\u001b[1;33m\u001b[0m\u001b[0m\n\u001b[0m\u001b[0;32m      3\u001b[0m \u001b[1;31m# Importing the Keras libraries and packages\u001b[0m\u001b[1;33m\u001b[0m\u001b[1;33m\u001b[0m\u001b[1;33m\u001b[0m\u001b[0m\n\u001b[0;32m      4\u001b[0m \u001b[1;32mimport\u001b[0m \u001b[0mmatplotlib\u001b[0m\u001b[1;33m.\u001b[0m\u001b[0mpyplot\u001b[0m \u001b[1;32mas\u001b[0m \u001b[0mplt\u001b[0m\u001b[1;33m\u001b[0m\u001b[1;33m\u001b[0m\u001b[0m\n\u001b[0;32m      5\u001b[0m \u001b[1;32mimport\u001b[0m \u001b[0mnumpy\u001b[0m \u001b[1;32mas\u001b[0m \u001b[0mnp\u001b[0m\u001b[1;33m\u001b[0m\u001b[1;33m\u001b[0m\u001b[0m\n",
      "\u001b[1;32m~\\anaconda3\\lib\\site-packages\\keras\\__init__.py\u001b[0m in \u001b[0;36m<module>\u001b[1;34m\u001b[0m\n\u001b[0;32m     19\u001b[0m \"\"\"\n\u001b[0;32m     20\u001b[0m \u001b[1;31m# pylint: disable=unused-import\u001b[0m\u001b[1;33m\u001b[0m\u001b[1;33m\u001b[0m\u001b[1;33m\u001b[0m\u001b[0m\n\u001b[1;32m---> 21\u001b[1;33m \u001b[1;32mfrom\u001b[0m \u001b[0mtensorflow\u001b[0m\u001b[1;33m.\u001b[0m\u001b[0mpython\u001b[0m \u001b[1;32mimport\u001b[0m \u001b[0mtf2\u001b[0m\u001b[1;33m\u001b[0m\u001b[1;33m\u001b[0m\u001b[0m\n\u001b[0m\u001b[0;32m     22\u001b[0m \u001b[1;32mfrom\u001b[0m \u001b[0mkeras\u001b[0m \u001b[1;32mimport\u001b[0m \u001b[0mdistribute\u001b[0m\u001b[1;33m\u001b[0m\u001b[1;33m\u001b[0m\u001b[0m\n\u001b[0;32m     23\u001b[0m \u001b[1;33m\u001b[0m\u001b[0m\n",
      "\u001b[1;31mModuleNotFoundError\u001b[0m: No module named 'tensorflow'"
     ]
    }
   ],
   "source": [
    "# Part 1 - Building the CNN\n",
    "from keras.layers import Add\n",
    "# Importing the Keras libraries and packages\n",
    "import matplotlib.pyplot as plt\n",
    "import numpy as np\n",
    "from keras.models import Sequential,Model\n",
    "from keras.layers import Conv2D,SeparableConv2D,add,GlobalAveragePooling2D, Input\n",
    "from keras.layers import MaxPooling2D,Concatenate,BatchNormalization\n",
    "from keras.layers import Flatten,Reshape,Dropout\n",
    "from keras.layers import Dense,Input\n",
    "from keras.optimizers import Adam\n",
    "from keras.callbacks import ModelCheckpoint,EarlyStopping\n",
    "from keras.preprocessing.image import ImageDataGenerator\n",
    "import random\n",
    "import tensorflow as tf\n",
    "random.seed(5)"
   ]
  },
  {
   "cell_type": "code",
   "execution_count": 3,
   "metadata": {
    "execution": {
     "iopub.execute_input": "2021-09-01T17:03:57.240830Z",
     "iopub.status.busy": "2021-09-01T17:03:57.240493Z",
     "iopub.status.idle": "2021-09-01T17:03:57.246558Z",
     "shell.execute_reply": "2021-09-01T17:03:57.245645Z",
     "shell.execute_reply.started": "2021-09-01T17:03:57.240799Z"
    }
   },
   "outputs": [],
   "source": [
    "train_datagen = ImageDataGenerator(rescale=1./255,\n",
    " rotation_range=20,\n",
    " width_shift_range=0.2,\n",
    " height_shift_range=0.2,\n",
    " shear_range=0.25,\n",
    " zoom_range=0.1,\n",
    " channel_shift_range = 20,\n",
    " horizontal_flip = True ,\n",
    " vertical_flip = True)\n",
    "\n",
    "test_datagen = ImageDataGenerator(rescale = 1./255)"
   ]
  },
  {
   "cell_type": "code",
   "execution_count": 22,
   "metadata": {
    "execution": {
     "iopub.execute_input": "2021-09-01T17:31:24.882887Z",
     "iopub.status.busy": "2021-09-01T17:31:24.882554Z",
     "iopub.status.idle": "2021-09-01T17:31:25.103515Z",
     "shell.execute_reply": "2021-09-01T17:31:25.102781Z",
     "shell.execute_reply.started": "2021-09-01T17:31:24.882856Z"
    }
   },
   "outputs": [
    {
     "name": "stdout",
     "output_type": "stream",
     "text": [
      "Found 676 images belonging to 2 classes.\n",
      "Found 408 images belonging to 2 classes.\n"
     ]
    }
   ],
   "source": [
    "train_generator = train_datagen.flow_from_directory('C:\\\\Users\\\\Somnath\\\\Downloads\\\\datasets\\\\datasets\\\\train',\n",
    "    target_size = (224, 224),\n",
    "    shuffle=True,seed=42,class_mode=\"categorical\",\n",
    "    \n",
    "    batch_size = 50)\n",
    "test_generator = test_datagen.flow_from_directory('C:\\\\Users\\\\Somnath\\\\Downloads\\\\datasets\\\\datasets\\\\test',\n",
    "    target_size = (224, 224),\n",
    "    \n",
    "    batch_size = 50,seed=42,class_mode=\"categorical\",\n",
    "    shuffle = False)"
   ]
  },
  {
   "cell_type": "code",
   "execution_count": 23,
   "metadata": {
    "execution": {
     "iopub.execute_input": "2021-09-01T17:31:27.378010Z",
     "iopub.status.busy": "2021-09-01T17:31:27.377694Z",
     "iopub.status.idle": "2021-09-01T17:31:27.571525Z",
     "shell.execute_reply": "2021-09-01T17:31:27.570644Z",
     "shell.execute_reply.started": "2021-09-01T17:31:27.377980Z"
    }
   },
   "outputs": [],
   "source": [
    "# Initialising the CNN\n",
    "classifier = Sequential()\n",
    "# Step 1 - Convolution\n",
    "classifier.add(SeparableConv2D(32, (3, 3), input_shape = (224, 224, 3), activation = 'relu'))\n",
    "classifier.add(BatchNormalization())\n",
    "# Step 2 - Pooling\n",
    "classifier.add(MaxPooling2D(pool_size = (2, 2)))\n",
    "\n",
    "# Adding a second convolutional layer\n",
    "classifier.add(SeparableConv2D(64, (3, 3), activation = 'relu'))\n",
    "classifier.add(BatchNormalization())\n",
    "classifier.add(MaxPooling2D(pool_size = (2, 2)))\n",
    "classifier.add(SeparableConv2D(96, (3, 3), activation = 'relu'))\n",
    "classifier.add(BatchNormalization())\n",
    "classifier.add(MaxPooling2D(pool_size = (2, 2)))\n",
    "# Step 3 - Flattening\n",
    "classifier.add(Flatten())\n",
    "\n",
    "# Step 4 - Full connection\n",
    "classifier.add(Dense(units = 128, activation = 'relu'))\n",
    "classifier.add(Dropout(0.5))\n",
    "classifier.add(Dense(units = 128, activation = 'relu'))\n",
    "classifier.add(Dense(units = 2, activation = 'softmax'))"
   ]
  },
  {
   "cell_type": "code",
   "execution_count": 24,
   "metadata": {
    "execution": {
     "iopub.execute_input": "2021-09-01T17:32:00.399670Z",
     "iopub.status.busy": "2021-09-01T17:32:00.399287Z",
     "iopub.status.idle": "2021-09-01T17:32:00.414405Z",
     "shell.execute_reply": "2021-09-01T17:32:00.413503Z",
     "shell.execute_reply.started": "2021-09-01T17:32:00.399635Z"
    }
   },
   "outputs": [],
   "source": [
    "classifier.compile(optimizer = Adam(lr=0.0001), loss = 'categorical_crossentropy', metrics = ['accuracy'])"
   ]
  },
  {
   "cell_type": "code",
   "execution_count": 25,
   "metadata": {
    "execution": {
     "iopub.execute_input": "2021-09-01T17:32:05.669548Z",
     "iopub.status.busy": "2021-09-01T17:32:05.669194Z",
     "iopub.status.idle": "2021-09-01T18:12:26.761719Z",
     "shell.execute_reply": "2021-09-01T18:12:26.761037Z",
     "shell.execute_reply.started": "2021-09-01T17:32:05.669516Z"
    }
   },
   "outputs": [
    {
     "name": "stdout",
     "output_type": "stream",
     "text": [
      "Epoch 1/100\n",
      "14/14 [==============================] - 22s 2s/step - loss: 0.5387 - accuracy: 0.8018\n",
      "Epoch 2/100\n",
      "14/14 [==============================] - 22s 2s/step - loss: 0.3223 - accuracy: 0.8964\n",
      "Epoch 3/100\n",
      "14/14 [==============================] - 23s 2s/step - loss: 0.2810 - accuracy: 0.9157\n",
      "Epoch 4/100\n",
      "14/14 [==============================] - 22s 2s/step - loss: 0.3079 - accuracy: 0.9024\n",
      "Epoch 5/100\n",
      "14/14 [==============================] - 23s 2s/step - loss: 0.2269 - accuracy: 0.9053\n",
      "Epoch 6/100\n",
      "14/14 [==============================] - 21s 2s/step - loss: 0.1621 - accuracy: 0.9364\n",
      "Epoch 7/100\n",
      "14/14 [==============================] - 22s 2s/step - loss: 0.1938 - accuracy: 0.9379\n",
      "Epoch 8/100\n",
      "14/14 [==============================] - 22s 2s/step - loss: 0.1287 - accuracy: 0.9556\n",
      "Epoch 9/100\n",
      "14/14 [==============================] - 22s 2s/step - loss: 0.1749 - accuracy: 0.9393\n",
      "Epoch 10/100\n",
      "14/14 [==============================] - 22s 2s/step - loss: 0.1485 - accuracy: 0.9482\n",
      "Epoch 11/100\n",
      "14/14 [==============================] - 22s 2s/step - loss: 0.1527 - accuracy: 0.9438\n",
      "Epoch 12/100\n",
      "14/14 [==============================] - 22s 2s/step - loss: 0.1797 - accuracy: 0.9438\n",
      "Epoch 13/100\n",
      "14/14 [==============================] - 23s 2s/step - loss: 0.1521 - accuracy: 0.9467\n",
      "Epoch 14/100\n",
      "14/14 [==============================] - 22s 2s/step - loss: 0.1507 - accuracy: 0.9379\n",
      "Epoch 15/100\n",
      "14/14 [==============================] - 22s 2s/step - loss: 0.1486 - accuracy: 0.9438\n",
      "Epoch 16/100\n",
      "14/14 [==============================] - 23s 2s/step - loss: 0.1510 - accuracy: 0.9423\n",
      "Epoch 17/100\n",
      "14/14 [==============================] - 22s 2s/step - loss: 0.1750 - accuracy: 0.9512\n",
      "Epoch 18/100\n",
      "14/14 [==============================] - 22s 2s/step - loss: 0.1064 - accuracy: 0.9630\n",
      "Epoch 19/100\n",
      "14/14 [==============================] - 22s 2s/step - loss: 0.1336 - accuracy: 0.9512\n",
      "Epoch 20/100\n",
      "14/14 [==============================] - 23s 2s/step - loss: 0.1172 - accuracy: 0.9601\n",
      "Epoch 21/100\n",
      "14/14 [==============================] - 22s 2s/step - loss: 0.1570 - accuracy: 0.9482\n",
      "Epoch 22/100\n",
      "14/14 [==============================] - 22s 2s/step - loss: 0.1033 - accuracy: 0.9645\n",
      "Epoch 23/100\n",
      "14/14 [==============================] - 22s 2s/step - loss: 0.0894 - accuracy: 0.9689\n",
      "Epoch 24/100\n",
      "14/14 [==============================] - 23s 2s/step - loss: 0.1171 - accuracy: 0.9615\n",
      "Epoch 25/100\n",
      "14/14 [==============================] - 22s 2s/step - loss: 0.0870 - accuracy: 0.9615\n",
      "Epoch 26/100\n",
      "14/14 [==============================] - 22s 2s/step - loss: 0.1093 - accuracy: 0.9660\n",
      "Epoch 27/100\n",
      "14/14 [==============================] - 22s 2s/step - loss: 0.0980 - accuracy: 0.9645\n",
      "Epoch 28/100\n",
      "14/14 [==============================] - 22s 2s/step - loss: 0.0776 - accuracy: 0.9675\n",
      "Epoch 29/100\n",
      "14/14 [==============================] - 22s 2s/step - loss: 0.1000 - accuracy: 0.9645\n",
      "Epoch 30/100\n",
      "14/14 [==============================] - 23s 2s/step - loss: 0.0695 - accuracy: 0.9763\n",
      "Epoch 31/100\n",
      "14/14 [==============================] - 23s 2s/step - loss: 0.1075 - accuracy: 0.9675\n",
      "Epoch 32/100\n",
      "14/14 [==============================] - 23s 2s/step - loss: 0.0807 - accuracy: 0.9734\n",
      "Epoch 33/100\n",
      "14/14 [==============================] - 22s 2s/step - loss: 0.0683 - accuracy: 0.9763\n",
      "Epoch 34/100\n",
      "14/14 [==============================] - 22s 2s/step - loss: 0.1141 - accuracy: 0.9630\n",
      "Epoch 35/100\n",
      "14/14 [==============================] - 22s 2s/step - loss: 0.0965 - accuracy: 0.9645\n",
      "Epoch 36/100\n",
      "14/14 [==============================] - 23s 2s/step - loss: 0.0588 - accuracy: 0.9734\n",
      "Epoch 37/100\n",
      "14/14 [==============================] - 23s 2s/step - loss: 0.0630 - accuracy: 0.9689\n",
      "Epoch 38/100\n",
      "14/14 [==============================] - 22s 2s/step - loss: 0.0715 - accuracy: 0.9704\n",
      "Epoch 39/100\n",
      "14/14 [==============================] - 22s 2s/step - loss: 0.0832 - accuracy: 0.9749\n",
      "Epoch 40/100\n",
      "14/14 [==============================] - 23s 2s/step - loss: 0.0631 - accuracy: 0.9778\n",
      "Epoch 41/100\n",
      "14/14 [==============================] - 22s 2s/step - loss: 0.0577 - accuracy: 0.9837\n",
      "Epoch 42/100\n",
      "14/14 [==============================] - 22s 2s/step - loss: 0.0577 - accuracy: 0.9808\n",
      "Epoch 43/100\n",
      "14/14 [==============================] - 23s 2s/step - loss: 0.0668 - accuracy: 0.9719\n",
      "Epoch 44/100\n",
      "14/14 [==============================] - 23s 2s/step - loss: 0.0565 - accuracy: 0.9778\n",
      "Epoch 45/100\n",
      "14/14 [==============================] - 22s 2s/step - loss: 0.0609 - accuracy: 0.9763\n",
      "Epoch 46/100\n",
      "14/14 [==============================] - 23s 2s/step - loss: 0.1101 - accuracy: 0.9601\n",
      "Epoch 47/100\n",
      "14/14 [==============================] - 23s 2s/step - loss: 0.0463 - accuracy: 0.9867\n",
      "Epoch 48/100\n",
      "14/14 [==============================] - 22s 2s/step - loss: 0.0840 - accuracy: 0.9719\n",
      "Epoch 49/100\n",
      "14/14 [==============================] - 22s 2s/step - loss: 0.0474 - accuracy: 0.9808\n",
      "Epoch 50/100\n",
      "14/14 [==============================] - 22s 2s/step - loss: 0.0330 - accuracy: 0.9896\n",
      "Epoch 51/100\n",
      "14/14 [==============================] - 23s 2s/step - loss: 0.0530 - accuracy: 0.9778\n",
      "Epoch 52/100\n",
      "14/14 [==============================] - 22s 2s/step - loss: 0.0500 - accuracy: 0.9808\n",
      "Epoch 53/100\n",
      "14/14 [==============================] - 23s 2s/step - loss: 0.0422 - accuracy: 0.9837\n",
      "Epoch 54/100\n",
      "14/14 [==============================] - 22s 2s/step - loss: 0.0478 - accuracy: 0.9822\n",
      "Epoch 55/100\n",
      "14/14 [==============================] - 22s 2s/step - loss: 0.0549 - accuracy: 0.9778\n",
      "Epoch 56/100\n",
      "14/14 [==============================] - 24s 2s/step - loss: 0.0649 - accuracy: 0.9793\n",
      "Epoch 57/100\n",
      "14/14 [==============================] - 23s 2s/step - loss: 0.0528 - accuracy: 0.9778\n",
      "Epoch 58/100\n",
      "14/14 [==============================] - 23s 2s/step - loss: 0.0409 - accuracy: 0.9882\n",
      "Epoch 59/100\n",
      "14/14 [==============================] - 23s 2s/step - loss: 0.0676 - accuracy: 0.9719\n",
      "Epoch 60/100\n",
      "14/14 [==============================] - 23s 2s/step - loss: 0.0562 - accuracy: 0.9778\n",
      "Epoch 61/100\n",
      "14/14 [==============================] - 23s 2s/step - loss: 0.0538 - accuracy: 0.9808\n",
      "Epoch 62/100\n",
      "14/14 [==============================] - 23s 2s/step - loss: 0.0663 - accuracy: 0.9763\n",
      "Epoch 63/100\n",
      "14/14 [==============================] - 23s 2s/step - loss: 0.0355 - accuracy: 0.9896\n",
      "Epoch 64/100\n",
      "14/14 [==============================] - 23s 2s/step - loss: 0.0445 - accuracy: 0.9734\n",
      "Epoch 65/100\n",
      "14/14 [==============================] - 22s 2s/step - loss: 0.0545 - accuracy: 0.9778\n",
      "Epoch 66/100\n",
      "14/14 [==============================] - 23s 2s/step - loss: 0.0485 - accuracy: 0.9822\n",
      "Epoch 67/100\n",
      "14/14 [==============================] - 22s 2s/step - loss: 0.0617 - accuracy: 0.9734\n",
      "Epoch 68/100\n",
      "14/14 [==============================] - 23s 2s/step - loss: 0.0475 - accuracy: 0.9793\n",
      "Epoch 69/100\n",
      "14/14 [==============================] - 23s 2s/step - loss: 0.0626 - accuracy: 0.9719\n",
      "Epoch 70/100\n",
      "14/14 [==============================] - 23s 2s/step - loss: 0.0431 - accuracy: 0.9867\n",
      "Epoch 71/100\n",
      "14/14 [==============================] - 22s 2s/step - loss: 0.0324 - accuracy: 0.9867\n",
      "Epoch 72/100\n",
      "14/14 [==============================] - 22s 2s/step - loss: 0.0546 - accuracy: 0.9852\n",
      "Epoch 73/100\n",
      "14/14 [==============================] - 23s 2s/step - loss: 0.0428 - accuracy: 0.9867\n",
      "Epoch 74/100\n",
      "14/14 [==============================] - 23s 2s/step - loss: 0.0589 - accuracy: 0.9837\n",
      "Epoch 75/100\n",
      "14/14 [==============================] - 22s 2s/step - loss: 0.0380 - accuracy: 0.9867\n",
      "Epoch 76/100\n",
      "14/14 [==============================] - 22s 2s/step - loss: 0.0551 - accuracy: 0.9837\n",
      "Epoch 77/100\n",
      "14/14 [==============================] - 22s 2s/step - loss: 0.0451 - accuracy: 0.9852\n",
      "Epoch 78/100\n",
      "14/14 [==============================] - 22s 2s/step - loss: 0.0397 - accuracy: 0.9896\n",
      "Epoch 79/100\n",
      "14/14 [==============================] - 22s 2s/step - loss: 0.0309 - accuracy: 0.9926\n",
      "Epoch 80/100\n",
      "14/14 [==============================] - 23s 2s/step - loss: 0.0521 - accuracy: 0.9808\n",
      "Epoch 81/100\n",
      "14/14 [==============================] - 23s 2s/step - loss: 0.0536 - accuracy: 0.9852\n",
      "Epoch 82/100\n",
      "14/14 [==============================] - 22s 2s/step - loss: 0.0370 - accuracy: 0.9896\n",
      "Epoch 83/100\n",
      "14/14 [==============================] - 22s 2s/step - loss: 0.0346 - accuracy: 0.9852\n",
      "Epoch 84/100\n",
      "14/14 [==============================] - 22s 2s/step - loss: 0.0345 - accuracy: 0.9852\n",
      "Epoch 85/100\n",
      "14/14 [==============================] - 22s 2s/step - loss: 0.0248 - accuracy: 0.9882\n",
      "Epoch 86/100\n",
      "14/14 [==============================] - 22s 2s/step - loss: 0.0388 - accuracy: 0.9852\n",
      "Epoch 87/100\n",
      "14/14 [==============================] - 23s 2s/step - loss: 0.0617 - accuracy: 0.9749\n",
      "Epoch 88/100\n",
      "14/14 [==============================] - 22s 2s/step - loss: 0.0469 - accuracy: 0.9852\n",
      "Epoch 89/100\n",
      "14/14 [==============================] - 22s 2s/step - loss: 0.0467 - accuracy: 0.9882\n",
      "Epoch 90/100\n",
      "14/14 [==============================] - 22s 2s/step - loss: 0.0242 - accuracy: 0.9911\n",
      "Epoch 91/100\n",
      "14/14 [==============================] - 22s 2s/step - loss: 0.0277 - accuracy: 0.9911\n",
      "Epoch 92/100\n",
      "14/14 [==============================] - 22s 2s/step - loss: 0.0489 - accuracy: 0.9793\n",
      "Epoch 93/100\n",
      "14/14 [==============================] - 22s 2s/step - loss: 0.0252 - accuracy: 0.9896\n",
      "Epoch 94/100\n",
      "14/14 [==============================] - 23s 2s/step - loss: 0.0247 - accuracy: 0.9911\n",
      "Epoch 95/100\n",
      "14/14 [==============================] - 22s 2s/step - loss: 0.0228 - accuracy: 0.9867\n",
      "Epoch 96/100\n",
      "14/14 [==============================] - 23s 2s/step - loss: 0.0360 - accuracy: 0.9867\n",
      "Epoch 97/100\n",
      "14/14 [==============================] - 22s 2s/step - loss: 0.0246 - accuracy: 0.9911\n",
      "Epoch 98/100\n",
      "14/14 [==============================] - 22s 2s/step - loss: 0.0093 - accuracy: 0.9985\n",
      "Epoch 99/100\n",
      "14/14 [==============================] - 23s 2s/step - loss: 0.0235 - accuracy: 0.9911\n",
      "Epoch 100/100\n",
      "14/14 [==============================] - 22s 2s/step - loss: 0.0278 - accuracy: 0.9852\n"
     ]
    },
    {
     "data": {
      "text/plain": [
       "<tensorflow.python.keras.callbacks.History at 0x7fd29c12f790>"
      ]
     },
     "execution_count": 25,
     "metadata": {},
     "output_type": "execute_result"
    }
   ],
   "source": [
    "from tensorflow.keras.callbacks import ModelCheckpoint\n",
    "#earlystopping_callback = EarlyStopping(monitor='accuracy')\n",
    "checkpoint = ModelCheckpoint('output/{accuracy:.4f}.hdf5',monitor='accuracy', save_best_only=True, mode='auto')\n",
    "classifier.fit_generator(train_generator,epochs =100,callbacks=[checkpoint])"
   ]
  },
  {
   "cell_type": "code",
   "execution_count": 26,
   "metadata": {
    "execution": {
     "iopub.execute_input": "2021-09-01T18:12:39.935046Z",
     "iopub.status.busy": "2021-09-01T18:12:39.934724Z",
     "iopub.status.idle": "2021-09-01T18:12:50.400908Z",
     "shell.execute_reply": "2021-09-01T18:12:50.400122Z",
     "shell.execute_reply.started": "2021-09-01T18:12:39.935015Z"
    }
   },
   "outputs": [],
   "source": [
    "from sklearn.metrics import classification_report, confusion_matrix,plot_confusion_matrix\n",
    "Y_pred = classifier.predict_generator(test_generator)"
   ]
  },
  {
   "cell_type": "code",
   "execution_count": 27,
   "metadata": {
    "execution": {
     "iopub.execute_input": "2021-09-01T18:12:55.121036Z",
     "iopub.status.busy": "2021-09-01T18:12:55.120717Z",
     "iopub.status.idle": "2021-09-01T18:12:55.126382Z",
     "shell.execute_reply": "2021-09-01T18:12:55.125426Z",
     "shell.execute_reply.started": "2021-09-01T18:12:55.121004Z"
    }
   },
   "outputs": [
    {
     "data": {
      "text/plain": [
       "(408,)"
      ]
     },
     "execution_count": 27,
     "metadata": {},
     "output_type": "execute_result"
    }
   ],
   "source": [
    "test_generator.classes.shape"
   ]
  },
  {
   "cell_type": "code",
   "execution_count": 28,
   "metadata": {
    "execution": {
     "iopub.execute_input": "2021-09-01T18:12:58.778979Z",
     "iopub.status.busy": "2021-09-01T18:12:58.778644Z",
     "iopub.status.idle": "2021-09-01T18:12:58.784868Z",
     "shell.execute_reply": "2021-09-01T18:12:58.782440Z",
     "shell.execute_reply.started": "2021-09-01T18:12:58.778933Z"
    }
   },
   "outputs": [],
   "source": [
    "y_pred = np.argmax(Y_pred, axis=1)"
   ]
  }
 ],
 "metadata": {
  "kernelspec": {
   "display_name": "Python 3",
   "language": "python",
   "name": "python3"
  },
  "language_info": {
   "codemirror_mode": {
    "name": "ipython",
    "version": 3
   },
   "file_extension": ".py",
   "mimetype": "text/x-python",
   "name": "python",
   "nbconvert_exporter": "python",
   "pygments_lexer": "ipython3",
   "version": "3.8.5"
  }
 },
 "nbformat": 4,
 "nbformat_minor": 4
}
